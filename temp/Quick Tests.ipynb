{
 "cells": [
  {
   "cell_type": "code",
   "execution_count": 1,
   "metadata": {
    "collapsed": false
   },
   "outputs": [],
   "source": [
    "using JuLIP\n",
    "using JuLIP.Potentials \n",
    "using JuLIP.Solve \n",
    "using JuLIP.Constraints"
   ]
  },
  {
   "cell_type": "code",
   "execution_count": null,
   "metadata": {
    "collapsed": true
   },
   "outputs": [],
   "source": []
  },
  {
   "cell_type": "code",
   "execution_count": 2,
   "metadata": {
    "collapsed": false
   },
   "outputs": [],
   "source": [
    "using PyCall\n",
    "@pyimport ase.calculators.emt as py_emt\n",
    "at = Atoms(\"Cu\", cubic=true, repeatcell=(3,3,3); pbc=(true,true,true));"
   ]
  },
  {
   "cell_type": "code",
   "execution_count": 3,
   "metadata": {
    "collapsed": false
   },
   "outputs": [
    {
     "data": {
      "text/plain": [
       "-0.6136078307225681"
      ]
     },
     "execution_count": 3,
     "metadata": {},
     "output_type": "execute_result"
    }
   ],
   "source": [
    "pyat = at.po\n",
    "pyat[:set_calculator](py_emt.EMT())\n",
    "Epy = pyat[:get_potential_energy]()\n"
   ]
  },
  {
   "cell_type": "code",
   "execution_count": 5,
   "metadata": {
    "collapsed": false
   },
   "outputs": [
    {
     "data": {
      "text/plain": [
       "108-element Array{FixedSizeArrays.Vec{3,Float64},1}:\n",
       " Vec(-5.8945903713691905e-15,6.5416422279085396e-15,5.821731985378165e-15)   \n",
       " Vec(-5.898059818321144e-15,-6.50868248186498e-15,-3.4833247397614286e-15)   \n",
       " Vec(-3.677613769070831e-15,-3.622102617839573e-15,-2.130240428499519e-15)   \n",
       " Vec(-6.874275454427092e-15,-5.462210544981971e-15,4.100886297209172e-15)    \n",
       " Vec(1.001282390333813e-14,4.683753385137379e-15,3.566591466608315e-15)      \n",
       " Vec(-7.067263441129512e-15,8.604228440844963e-16,-2.6593310886724453e-15)   \n",
       " Vec(-7.424616477180734e-16,7.646661082105766e-15,-3.5492442318485473e-15)   \n",
       " Vec(8.86703904745545e-15,-1.5083420623618338e-15,1.0720591081536668e-15)    \n",
       " Vec(1.1546319456101628e-14,8.881784197001252e-16,-1.0408340855860843e-17)   \n",
       " Vec(-6.271025365656158e-15,9.194034422677078e-16,-3.6099595535077356e-15)   \n",
       " Vec(1.6306400674181987e-16,-4.163336342344337e-16,-1.850949948867253e-15)   \n",
       " Vec(6.587612400021925e-16,5.386966914211477e-15,-4.054048763357798e-15)     \n",
       " Vec(1.6965595595053173e-15,1.4710455076283324e-15,7.594619377826461e-15)    \n",
       " ⋮                                                                           \n",
       " Vec(-3.7990444123892075e-15,-1.1345091532888318e-15,-3.9517000782751666e-15)\n",
       " Vec(-1.3818014810309089e-15,-3.0531133177191805e-15,-4.654909795701002e-16) \n",
       " Vec(-6.539907504432563e-16,-2.6238634898303028e-15,-4.550826387142394e-16)  \n",
       " Vec(-1.7763568394002505e-15,8.881784197001252e-16,-1.1102230246251565e-16)  \n",
       " Vec(2.304042907188392e-15,-1.2573443889919928e-15,6.387438185795e-15)       \n",
       " Vec(5.0411064211886014e-15,-4.805184028455756e-16,-6.591949208711867e-16)   \n",
       " Vec(6.354292092503044e-15,1.9116652705264414e-15,-1.5508427875232655e-15)   \n",
       " Vec(-1.0735646033382929e-14,2.590499709070903e-15,3.763235247511085e-15)    \n",
       " Vec(9.34799113117002e-16,5.364632349458276e-15,5.349670359477976e-15)       \n",
       " Vec(9.593020822151743e-15,-4.9439619065339e-15,-1.3825746103535153e-15)     \n",
       " Vec(5.516420653606247e-16,4.697631172945194e-15,3.8337388819087437e-16)     \n",
       " Vec(-1.407728100755179e-14,-4.309053114326389e-15,5.585809592645319e-15)    "
      ]
     },
     "execution_count": 5,
     "metadata": {},
     "output_type": "execute_result"
    }
   ],
   "source": [
    "set_calculator!(at, py_emt.EMT())\n",
    "E = energy(at)\n"
   ]
  },
  {
   "cell_type": "code",
   "execution_count": 7,
   "metadata": {
    "collapsed": false
   },
   "outputs": [
    {
     "name": "stdout",
     "output_type": "stream",
     "text": [
      "vecnorm(mat(F)' - Fpy) = 0.0\n"
     ]
    },
    {
     "data": {
      "text/plain": [
       "0.0"
      ]
     },
     "execution_count": 7,
     "metadata": {},
     "output_type": "execute_result"
    }
   ],
   "source": [
    "rattle!(at, 0.01)\n",
    "Fpy = pyat[:get_forces]()\n",
    "F = forces(at)\n",
    "@show vecnorm( mat(F)' - Fpy )"
   ]
  },
  {
   "cell_type": "code",
   "execution_count": null,
   "metadata": {
    "collapsed": true
   },
   "outputs": [],
   "source": []
  }
 ],
 "metadata": {
  "kernelspec": {
   "display_name": "Julia 0.4.6",
   "language": "julia",
   "name": "julia-0.4"
  },
  "language_info": {
   "file_extension": ".jl",
   "mimetype": "application/julia",
   "name": "julia",
   "version": "0.4.6"
  }
 },
 "nbformat": 4,
 "nbformat_minor": 0
}
