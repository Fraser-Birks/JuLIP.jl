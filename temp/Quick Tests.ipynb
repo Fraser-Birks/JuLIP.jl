{
 "cells": [
  {
   "cell_type": "code",
   "execution_count": 1,
   "metadata": {
    "collapsed": false
   },
   "outputs": [],
   "source": [
    "using JuLIP\n",
    "using JuLIP.Potentials \n",
    "using JuLIP.Solve \n",
    "using JuLIP.Constraints"
   ]
  },
  {
   "cell_type": "code",
   "execution_count": 2,
   "metadata": {
    "collapsed": false
   },
   "outputs": [],
   "source": [
    "calc = LennardJonesCalculator(r0=JuLIP.ASE.rnn(\"Al\"))\n",
    "at = Atoms(\"Al\", cubic=true, repeatcell=(3,3,3), pbc=(true,true,true))\n",
    "at = rattle!(at, 0.02)\n",
    "set_calculator!(at, calc)\n",
    "set_constraint!(at, FixedCell(at));"
   ]
  },
  {
   "cell_type": "code",
   "execution_count": 3,
   "metadata": {
    "collapsed": false
   },
   "outputs": [],
   "source": [
    "# minimise!(at)"
   ]
  },
  {
   "cell_type": "code",
   "execution_count": 5,
   "metadata": {
    "collapsed": false
   },
   "outputs": [
    {
     "data": {
      "text/plain": [
       "minimise! (generic function with 1 method)"
      ]
     },
     "execution_count": 5,
     "metadata": {},
     "output_type": "execute_result"
    }
   ],
   "source": [
    "import Optim: DifferentiableFunction, optimize, ConjugateGradient\n",
    "\n",
    "import JuLIP: AbstractAtoms, Preconditioner, update!, Identity, update!\n",
    "import JuLIP.Solve.minimise!\n",
    "\n",
    "\"\"\"\n",
    "`minimise!(at::AbstractAtoms)`: geometry optimisation\n",
    "\n",
    "`at` must have a calculator and a constraint attached.\n",
    "\n",
    "## Keyword arguments:\n",
    "* `precond = Identity()` : preconditioner\n",
    "* `grtol = 1e-6`\n",
    "* `ftol = 1e-32`\n",
    "* `Optimiser = Optim.ConjugateGradient`\n",
    "* `verbose = 0`: 0 : no output, 1 : final, 2 : iteration\n",
    "\"\"\"\n",
    "function minimise!( at::AbstractAtoms;\n",
    "                  precond = Identity(), gtol=1e-6, ftol=1e-32,\n",
    "                  Optimiser = ConjugateGradient,\n",
    "                  verbose = 1 )\n",
    "\n",
    "   # create an objective function\n",
    "   objective = DifferentiableFunction( x->energy(at, x),\n",
    "                                       (x,g)->copy!(g, grad(at, x)) )\n",
    "   # call Optim.jl\n",
    "   # TODO: use verb flag to determine whether detailed output is wanted\n",
    "   optimiser = Optimiser(P = precond,\n",
    "                         precondprep! = (P, x) -> update!(P, at, x))\n",
    "   results = optimize( objective, dofs(at), method = optimiser,\n",
    "                        f_tol = ftol, g_tol = gtol )\n",
    "   # analyse the results\n",
    "   if verbose > 0\n",
    "      println(results)\n",
    "   end\n",
    "end\n",
    "\n",
    "\n"
   ]
  },
  {
   "cell_type": "code",
   "execution_count": 6,
   "metadata": {
    "collapsed": false
   },
   "outputs": [
    {
     "name": "stdout",
     "output_type": "stream",
     "text": [
      "Results of Optimization Algorithm\n",
      " * Algorithm: Conjugate Gradient\n",
      " * Starting Point: [0.0004917608303129334,0.004148633106578229, ...]\n",
      " * Minimizer: [0.001358751350021064,0.00037583697201006786, ...]\n",
      " * Minimum: -1.704124e+03\n",
      " * Iterations: 21\n",
      " * Convergence: true\n",
      "   * |x - x'| < 1.0e-32: false\n",
      "   * |f(x) - f(x')| / |f(x)| < 1.0e-32: true\n",
      "   * |g(x)| < 1.0e-06: false\n",
      "   * Reached Maximum Number of Iterations: false\n",
      " * Objective Function Calls: 72\n",
      " * Gradient Calls: 51\n"
     ]
    }
   ],
   "source": [
    "minimise!(at)"
   ]
  },
  {
   "cell_type": "code",
   "execution_count": null,
   "metadata": {
    "collapsed": true
   },
   "outputs": [],
   "source": [
    "# 114.52"
   ]
  },
  {
   "cell_type": "code",
   "execution_count": null,
   "metadata": {
    "collapsed": true
   },
   "outputs": [],
   "source": []
  },
  {
   "cell_type": "code",
   "execution_count": null,
   "metadata": {
    "collapsed": true
   },
   "outputs": [],
   "source": []
  },
  {
   "cell_type": "code",
   "execution_count": null,
   "metadata": {
    "collapsed": true
   },
   "outputs": [],
   "source": []
  },
  {
   "cell_type": "markdown",
   "metadata": {},
   "source": [
    "# Travel Insurance: MTV602328549\n",
    "(michelle, ext 6979)\n",
    "* Medical Emergency : 10M\n",
    "* Repatriation\n",
    "* Travel & Accom cost if cancel: 5k\n",
    "* Excess: 50 GBP\n",
    "* Key exclusions: no delays under 12 h, cancel for reasons not listed, cover no known reason\n",
    "* belongings: up to 1500 per person\n",
    "* baggage cover: value at time of lost; needs police report\n"
   ]
  },
  {
   "cell_type": "code",
   "execution_count": null,
   "metadata": {
    "collapsed": true
   },
   "outputs": [],
   "source": []
  }
 ],
 "metadata": {
  "kernelspec": {
   "display_name": "Julia 0.4.6",
   "language": "julia",
   "name": "julia-0.4"
  },
  "language_info": {
   "file_extension": ".jl",
   "mimetype": "application/julia",
   "name": "julia",
   "version": "0.4.6"
  }
 },
 "nbformat": 4,
 "nbformat_minor": 0
}
