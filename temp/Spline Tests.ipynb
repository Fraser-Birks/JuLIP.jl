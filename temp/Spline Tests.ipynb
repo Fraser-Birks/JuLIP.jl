{
 "cells": [
  {
   "cell_type": "markdown",
   "metadata": {},
   "source": [
    "need a spline library with the right boundary conditions.\n"
   ]
  },
  {
   "cell_type": "code",
   "execution_count": null,
   "metadata": {
    "collapsed": false
   },
   "outputs": [],
   "source": [
    "using Interpolations, Dierckx, PyPlot"
   ]
  },
  {
   "cell_type": "code",
   "execution_count": null,
   "metadata": {
    "collapsed": false
   },
   "outputs": [],
   "source": [
    "x = linspace(0, 1, 10) |> collect \n",
    "y = rand(10)\n",
    "y[end] = 0.0"
   ]
  },
  {
   "cell_type": "code",
   "execution_count": null,
   "metadata": {
    "collapsed": false
   },
   "outputs": [],
   "source": [
    "xx = linspace(0, 2, 100)\n",
    "yy = sin(xx * pi).^3 .* (xx .<= 1)\n",
    "xknots = [linspace(0.1, 1, 10); 1.01; 1.02]\n",
    "spl = Spline1D(xx, yy, xknots, bc = \"zero\")\n",
    "t = linspace(0.2, 1.2, 200) |> collect\n",
    "plot(t, spl(t), \"b-\", t, derivative(spl, t), \"r-\")\n",
    "axis([0.0, 1.2, -0.5, 1.1])"
   ]
  },
  {
   "cell_type": "code",
   "execution_count": null,
   "metadata": {
    "collapsed": false
   },
   "outputs": [],
   "source": [
    "?Dierckx"
   ]
  },
  {
   "cell_type": "code",
   "execution_count": null,
   "metadata": {
    "collapsed": false
   },
   "outputs": [],
   "source": [
    "spli = interpolate(y, BSpline(Linear), OnGrid)"
   ]
  },
  {
   "cell_type": "code",
   "execution_count": null,
   "metadata": {
    "collapsed": false
   },
   "outputs": [],
   "source": [
    "?interpolate"
   ]
  },
  {
   "cell_type": "code",
   "execution_count": null,
   "metadata": {
    "collapsed": false
   },
   "outputs": [],
   "source": [
    "nx = 10\n",
    "f(x) = sin(2pi/(nx-1) * (x-1))\n",
    "\n",
    "xcoarse = 1:nx\n",
    "ycoarse = f(xcoarse);\n",
    "\n",
    "xfine = 1:.1:xcoarse[end]\n",
    "yfine = f(xfine);\n"
   ]
  },
  {
   "cell_type": "code",
   "execution_count": null,
   "metadata": {
    "collapsed": false
   },
   "outputs": [],
   "source": [
    "filename = \"/Users/ortner/Downloads/ffe.plt.txt\""
   ]
  },
  {
   "cell_type": "code",
   "execution_count": null,
   "metadata": {
    "collapsed": false
   },
   "outputs": [],
   "source": [
    "file = open(filename, \"r\")"
   ]
  },
  {
   "cell_type": "code",
   "execution_count": null,
   "metadata": {
    "collapsed": false
   },
   "outputs": [],
   "source": [
    "data = readdlm(filename, Float64)\n",
    "x, y = data[:,1], data[:,2];"
   ]
  },
  {
   "cell_type": "code",
   "execution_count": null,
   "metadata": {
    "collapsed": false
   },
   "outputs": [],
   "source": [
    "plot(x, y)\n",
    "axis([0.0, 6.0, -1.0, 2.0])"
   ]
  },
  {
   "cell_type": "code",
   "execution_count": null,
   "metadata": {
    "collapsed": false
   },
   "outputs": [],
   "source": [
    "spl = Spline1D(x, y; bc = \"zero\", s = 1e-3)\n",
    "spl.c[end-3:end] = 0.0\n",
    "t = linspace(1.0, 6.0, 200) |> collect\n",
    "plot(t, spl(t), \"b-\", t, derivative(spl, t), \"r-\")\n",
    "axis([3, 6, -1e-2, 1e-2])\n"
   ]
  },
  {
   "cell_type": "code",
   "execution_count": null,
   "metadata": {
    "collapsed": false
   },
   "outputs": [],
   "source": [
    "spl.c"
   ]
  },
  {
   "cell_type": "code",
   "execution_count": null,
   "metadata": {
    "collapsed": false
   },
   "outputs": [],
   "source": []
  }
 ],
 "metadata": {
  "anaconda-cloud": {},
  "kernelspec": {
   "display_name": "Julia 0.5.2-pre",
   "language": "julia",
   "name": "julia-0.5"
  },
  "language_info": {
   "file_extension": ".jl",
   "mimetype": "application/julia",
   "name": "julia",
   "version": "0.5.2"
  }
 },
 "nbformat": 4,
 "nbformat_minor": 0
}
