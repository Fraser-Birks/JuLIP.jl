{
 "cells": [
  {
   "cell_type": "markdown",
   "metadata": {},
   "source": [
    "need a spline library with the right boundary conditions.\n"
   ]
  },
  {
   "cell_type": "code",
   "execution_count": null,
   "metadata": {
    "collapsed": false
   },
   "outputs": [],
   "source": [
    "using Dierckx #, PyPlot"
   ]
  },
  {
   "cell_type": "code",
   "execution_count": null,
   "metadata": {
    "collapsed": false
   },
   "outputs": [],
   "source": [
    "filename = \"/Users/ortner/Downloads/ffe.plt.txt\"\n",
    "data = readdlm(filename, Float64)\n",
    "x, y = data[:,1], data[:,2];"
   ]
  },
  {
   "cell_type": "code",
   "execution_count": null,
   "metadata": {
    "collapsed": false
   },
   "outputs": [],
   "source": [
    "# plot(x, y)\n",
    "# axis([0.0, 6.0, -1.0, 2.0])"
   ]
  },
  {
   "cell_type": "code",
   "execution_count": null,
   "metadata": {
    "collapsed": false
   },
   "outputs": [],
   "source": [
    "spl = Spline1D(x, y; bc = \"zero\", s = 1e-2, w = (1 + abs(y)).^(-2))\n",
    "spl.c[end-2:end] = 0.0\n",
    "t = linspace(1.0, 6.0, 200) |> collect\n",
    "# plot(t, spl(t), \"b-\", t, derivative(spl, t), \"r-\")\n",
    "# axis([3, 6, -1e-2, 1e-2])\n"
   ]
  },
  {
   "cell_type": "code",
   "execution_count": null,
   "metadata": {
    "collapsed": false
   },
   "outputs": [],
   "source": [
    "# plot(x, y, \"b-\", x, spl(x), \"r:\")\n",
    "# axis([0, 6, -1.0, 5.0])"
   ]
  },
  {
   "cell_type": "code",
   "execution_count": null,
   "metadata": {
    "collapsed": false
   },
   "outputs": [],
   "source": [
    "tt = 2.0 + rand(100_000);"
   ]
  },
  {
   "cell_type": "code",
   "execution_count": null,
   "metadata": {
    "collapsed": false
   },
   "outputs": [],
   "source": [
    "# Evaluations of the entire vector\n",
    "@time spl(tt)\n",
    "@time derivative(spl, tt)\n",
    "@time derivative(spl, tt; nu=2)\n",
    "\n",
    "# OLD \n",
    "#   0.006103 seconds (8 allocations: 781.594 KB)\n",
    "#   0.003211 seconds (9 allocations: 781.781 KB)\n",
    "#   0.002177 seconds (10 allocations: 781.875 KB)\n",
    "\n",
    "# NEW\n",
    "#   0.006344 seconds (7 allocations: 781.500 KB)\n",
    "#   0.003319 seconds (8 allocations: 781.672 KB)\n",
    "#   0.002090 seconds (9 allocations: 781.766 KB)\n",
    ";"
   ]
  },
  {
   "cell_type": "code",
   "execution_count": null,
   "metadata": {
    "collapsed": false
   },
   "outputs": [],
   "source": [
    "function ftest(spl, tt)\n",
    "    for t in tt\n",
    "        spl(t) \n",
    "    end \n",
    "end\n",
    "\n",
    "function ftest1(spl, tt)\n",
    "    wrk = Vector{Float64}(length(spl.t))\n",
    "    for t in tt\n",
    "        Dierckx.__derivative(spl.t, spl.c, spl.k, t, 1, spl.bc, wrk)\n",
    "        #         derivative(spl, t)\n",
    "    end \n",
    "end\n",
    "\n",
    "function ftest2(spl, tt)\n",
    "    wrk = Vector{Float64}(length(spl.t))\n",
    "    for t in tt\n",
    "        Dierckx.__derivative(spl.t, spl.c, spl.k, t, 2, spl.bc, wrk)\n",
    "        # derivative(spl, t, nu = 2)\n",
    "    end \n",
    "end"
   ]
  },
  {
   "cell_type": "code",
   "execution_count": null,
   "metadata": {
    "collapsed": false
   },
   "outputs": [],
   "source": [
    "@time ftest(spl, tt)\n",
    "@time ftest(spl, tt)\n",
    "@time ftest1(spl, tt)\n",
    "@time ftest1(spl, tt)\n",
    "@time ftest2(spl, tt)\n",
    "@time ftest2(spl, tt)"
   ]
  },
  {
   "cell_type": "code",
   "execution_count": null,
   "metadata": {
    "collapsed": false
   },
   "outputs": [],
   "source": [
    "# OLD TIMINGS \n",
    "# evaluate \n",
    "#   0.018588 seconds (500.00 k allocations: 15.259 MB, 11.57% gc time)\n",
    "#   0.017436 seconds (500.00 k allocations: 15.259 MB, 7.48% gc time)\n",
    "# first derivative\n",
    "#   0.020274 seconds (600.00 k allocations: 33.569 MB, 6.01% gc time)\n",
    "#   0.020318 seconds (600.00 k allocations: 33.569 MB, 11.01% gc time)\n",
    "# second derivative\n",
    "#   0.027993 seconds (700.00 k allocations: 42.725 MB, 11.26% gc time)\n",
    "#   0.026323 seconds (700.00 k allocations: 42.725 MB, 10.23% gc time)\n",
    "\n",
    "# NEW TIMINGS: REMOVE TYPE INSTABILITY\n",
    "# evaluate \n",
    "#   0.009857 seconds (200.00 k allocations: 3.052 MB)\n",
    "#   0.009378 seconds (200.00 k allocations: 3.052 MB)\n",
    "# first derivative\n",
    "#   0.012261 seconds (300.00 k allocations: 19.837 MB, 8.79% gc time)\n",
    "#   0.012860 seconds (300.00 k allocations: 19.837 MB, 6.69% gc time)\n",
    "# second derivative\n",
    "#   0.019107 seconds (400.00 k allocations: 28.992 MB, 11.40% gc time)\n",
    "#   0.018948 seconds (400.00 k allocations: 28.992 MB, 11.45% gc time)\n",
    "\n",
    "# NEW TIMINGS: WORK ARRAY PASSED AS AN ARGUMENT \n",
    "# evaluate \n",
    "#   0.010958 seconds (200.00 k allocations: 3.052 MB)\n",
    "#   0.009265 seconds (200.00 k allocations: 3.052 MB)\n",
    "# first derivative\n",
    "#   0.008837 seconds (200.00 k allocations: 3.052 MB)\n",
    "#   0.009624 seconds (200.00 k allocations: 3.052 MB)\n",
    "# second derivative\n",
    "#   0.009792 seconds (200.00 k allocations: 3.052 MB)\n",
    "#   0.009251 seconds (200.00 k allocations: 3.052 MB)\n",
    "\n"
   ]
  },
  {
   "cell_type": "code",
   "execution_count": null,
   "metadata": {
    "collapsed": false
   },
   "outputs": [],
   "source": []
  },
  {
   "cell_type": "code",
   "execution_count": null,
   "metadata": {
    "collapsed": false
   },
   "outputs": [],
   "source": []
  }
 ],
 "metadata": {
  "anaconda-cloud": {},
  "kernelspec": {
   "display_name": "Julia 0.5.2-pre",
   "language": "julia",
   "name": "julia-0.5"
  },
  "language_info": {
   "file_extension": ".jl",
   "mimetype": "application/julia",
   "name": "julia",
   "version": "0.5.2"
  }
 },
 "nbformat": 4,
 "nbformat_minor": 0
}
