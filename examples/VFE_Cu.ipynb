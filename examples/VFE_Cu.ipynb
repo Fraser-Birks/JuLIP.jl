{
 "cells": [
  {
   "cell_type": "markdown",
   "metadata": {},
   "source": [
    "# Vacancy Formation Energy of Copper"
   ]
  },
  {
   "cell_type": "markdown",
   "metadata": {},
   "source": [
    "<b>Task</b>: to find the vacancy formation energy in bulk copper\n",
    "\n",
    "The vacancy formation energy is the energy required to break the bonds between an atom inside the crystal and its nearest neighbor atoms and removing that atom to where it has no interaction with the remaining system. [1]\n",
    "\n",
    "The vacancy formation energy can be found by the equation: <center>$E_v^f = E_f - N_v \\cdot E_{ref}$ </center> where $E_f$, $N_v$ and $E_{ref}$ are the energy of the relaxed system with vacancy, the number of atoms in the system with vacancy and energy per unit volume of the material respectively.\n",
    "\n",
    "We are calculating the energy of the bulk system using Morse Potential with parameters from [2]. The Morse potential between atoms $i$ and $j$ is <center> $V_{ij} = D\\big( e^ { -2 \\alpha (r_{ij} - r_e) } - 2e^{ - \\alpha (r_{ij} - r_e)  } \\big) $ </center> where $D$, $\\alpha$, $r_{ij}$ and $r_e$ are the well depth, the width of the potential, the equilibrium atomic distance.\n",
    "\n",
    "<b>References</b>: \n",
    "\n",
    "[1]https://icme.hpc.msstate.edu/mediawiki/index.php/LAMMPS_Vacancy_Formation_Energy\n",
    "\n",
    "[2]Oluwajobi, A. & Chen, X. Int. J. Autom. Comput. (2011) 8: 326. https://doi.org/10.1007/s11633-011-0588-y"
   ]
  },
  {
   "cell_type": "code",
   "execution_count": 18,
   "metadata": {},
   "outputs": [],
   "source": [
    "using JuLIP, Optim, DataFrames"
   ]
  },
  {
   "cell_type": "code",
   "execution_count": 9,
   "metadata": {
    "scrolled": true
   },
   "outputs": [
    {
     "data": {
      "text/plain": [
       "JuLIP.Potentials.AnalyticFunction{##13#16,##14#17,##15#18}(#13, #14, #15) * JuLIP.Potentials.SplineCutoff(0.01, 6.4)"
      ]
     },
     "execution_count": 9,
     "metadata": {},
     "output_type": "execute_result"
    }
   ],
   "source": [
    "# Morse potential\n",
    "D = 0.3429 # well depth\n",
    "alpha = 1.3588 # width of potential (Argstrom)\n",
    "r_e = 2.866 # atomic distance at equilibrium\n",
    "cut_off = 6.4 # cut_off radius\n",
    "mp = (@analytic r -> D * ( exp(-2*alpha*(r-r_e)) - 2*exp(-alpha*(r-r_e)) )) * SplineCutoff(0.01, cut_off)"
   ]
  },
  {
   "cell_type": "code",
   "execution_count": 10,
   "metadata": {},
   "outputs": [
    {
     "data": {
      "text/plain": [
       "-1.426054040194669"
      ]
     },
     "execution_count": 10,
     "metadata": {},
     "output_type": "execute_result"
    }
   ],
   "source": [
    "# reference energy\n",
    "# energy per unit volume of a homogeneous copper crystal\n",
    "at = bulk(:Cu)\n",
    "set_calculator!(at, mp)\n",
    "Eref = energy(at)"
   ]
  },
  {
   "cell_type": "code",
   "execution_count": 32,
   "metadata": {},
   "outputs": [
    {
     "data": {
      "text/plain": [
       "VFE (generic function with 1 method)"
      ]
     },
     "execution_count": 32,
     "metadata": {},
     "output_type": "execute_result"
    }
   ],
   "source": [
    "function VFE(size)\n",
    "    # cluster with vacancy\n",
    "    at = bulk(:Cu, cubic = true) * size\n",
    "    set_calculator!(at, mp)\n",
    "    deleteat!(at, length(at) ÷ 2)\n",
    "    # energy before relaxing\n",
    "    E0 = energy(at) - length(at)*Eref\n",
    "\n",
    "    # geometry optimization\n",
    "    set_constraint!(at, FixedCell(at))\n",
    "    result = minimise!(at)\n",
    "    E1 = result.minimum - length(at)*Eref\n",
    "    \n",
    "    return E0, E1\n",
    "end"
   ]
  },
  {
   "cell_type": "code",
   "execution_count": 37,
   "metadata": {
    "collapsed": true
   },
   "outputs": [
    {
     "name": "stdout",
     "output_type": "stream",
     "text": [
      "Results of Optimization Algorithm\n",
      " * Algorithm: Conjugate Gradient\n",
      " * Starting Point: [0.0,0.0, ...]\n",
      " * Minimizer: [0.0016468729534981734,8.026160867299807e-15, ...]\n",
      " * Minimum: -1.513039e+02\n",
      " * Iterations: 8\n",
      " * Convergence: true\n",
      "   * |x - x'| ≤ 0.0e+00: false \n",
      "     |x - x'| = 5.12e-06 \n",
      "   * |f(x) - f(x')| ≤ 1.0e-32 |f(x)|: false\n",
      "     |f(x) - f(x')| = -3.15e-11 |f(x)|\n",
      "   * |g(x)| ≤ 1.0e-05: true \n",
      "     |g(x)| = 7.67e-06 \n",
      "   * Stopped by an increasing objective: false\n",
      "   * Reached Maximum Number of Iterations: false\n",
      " * Objective Calls: 17\n",
      " * Gradient Calls: 9\n",
      "Results of Optimization Algorithm\n",
      " * Algorithm: Conjugate Gradient\n",
      " * Starting Point: [0.0,0.0, ...]\n",
      " * Minimizer: [-0.006878035996426172,-0.0068780359964322755, ...]\n",
      " * Minimum: -3.623638e+02\n",
      " * Iterations: 11\n",
      " * Convergence: true\n",
      "   * |x - x'| ≤ 0.0e+00: false \n",
      "     |x - x'| = 2.03e-06 \n",
      "   * |f(x) - f(x')| ≤ 1.0e-32 |f(x)|: false\n",
      "     |f(x) - f(x')| = -1.52e-12 |f(x)|\n",
      "   * |g(x)| ≤ 1.0e-05: true \n",
      "     |g(x)| = 3.66e-06 \n",
      "   * Stopped by an increasing objective: false\n",
      "   * Reached Maximum Number of Iterations: false\n",
      " * Objective Calls: 23\n",
      " * Gradient Calls: 12\n",
      "Results of Optimization Algorithm\n",
      " * Algorithm: Conjugate Gradient\n",
      " * Starting Point: [0.0,0.0, ...]\n",
      " * Minimizer: [0.0005260221862448097,-1.6869519782641145e-16, ...]\n",
      " * Minimum: -7.103222e+02\n",
      " * Iterations: 13\n",
      " * Convergence: true\n",
      "   * |x - x'| ≤ 0.0e+00: false \n",
      "     |x - x'| = 1.07e-06 \n",
      "   * |f(x) - f(x')| ≤ 1.0e-32 |f(x)|: false\n",
      "     |f(x) - f(x')| = -4.71e-13 |f(x)|\n",
      "   * |g(x)| ≤ 1.0e-05: true \n",
      "     |g(x)| = 4.27e-06 \n",
      "   * Stopped by an increasing objective: false\n",
      "   * Reached Maximum Number of Iterations: false\n",
      " * Objective Calls: 27\n",
      " * Gradient Calls: 14\n",
      "Results of Optimization Algorithm\n",
      " * Algorithm: Conjugate Gradient\n",
      " * Starting Point: [0.0,0.0, ...]\n",
      " * Minimizer: [0.0016468729534981734,8.026160867299807e-15, ...]\n",
      " * Minimum: -1.513039e+02\n",
      " * Iterations: 8\n",
      " * Convergence: true\n",
      "   * |x - x'| ≤ 0.0e+00: false \n",
      "     |x - x'| = 5.12e-06 \n",
      "   * |f(x) - f(x')| ≤ 1.0e-32 |f(x)|: false\n",
      "     |f(x) - f(x')| = -3.15e-11 |f(x)|\n",
      "   * |g(x)| ≤ 1.0e-05: true \n",
      "     |g(x)| = 7.67e-06 \n",
      "   * Stopped by an increasing objective: false\n",
      "   * Reached Maximum Number of Iterations: false\n",
      " * Objective Calls: 17\n",
      " * Gradient Calls: 9\n",
      "Results of Optimization Algorithm\n",
      " * Algorithm: Conjugate Gradient\n",
      " * Starting Point: [0.0,0.0, ...]\n",
      " * Minimizer: [-0.006878035996426172,-0.0068780359964322755, ...]\n",
      " * Minimum: -3.623638e+02\n",
      " * Iterations: 11\n",
      " * Convergence: true\n",
      "   * |x - x'| ≤ 0.0e+00: false \n",
      "     |x - x'| = 2.03e-06 \n",
      "   * |f(x) - f(x')| ≤ 1.0e-32 |f(x)|: false\n",
      "     |f(x) - f(x')| = -1.52e-12 |f(x)|\n",
      "   * |g(x)| ≤ 1.0e-05: true \n",
      "     |g(x)| = 3.66e-06 \n",
      "   * Stopped by an increasing objective: false\n",
      "   * Reached Maximum Number of Iterations: false\n",
      " * Objective Calls: 23\n",
      " * Gradient Calls: 12\n",
      "Results of Optimization Algorithm\n",
      " * Algorithm: Conjugate Gradient\n",
      " * Starting Point: [0.0,0.0, ...]\n",
      " * Minimizer: [0.0005260221862448097,-1.6869519782641145e-16, ...]\n",
      " * Minimum: -7.103222e+02\n",
      " * Iterations: 13\n",
      " * Convergence: true\n",
      "   * |x - x'| ≤ 0.0e+00: false \n",
      "     |x - x'| = 1.07e-06 \n",
      "   * |f(x) - f(x')| ≤ 1.0e-32 |f(x)|: false\n",
      "     |f(x) - f(x')| = -4.71e-13 |f(x)|\n",
      "   * |g(x)| ≤ 1.0e-05: true \n",
      "     |g(x)| = 4.27e-06 \n",
      "   * Stopped by an increasing objective: false\n",
      "   * Reached Maximum Number of Iterations: false\n",
      " * Objective Calls: 27\n",
      " * Gradient Calls: 14\n"
     ]
    }
   ],
   "source": [
    "size_range = 3:5\n",
    "VFE_0, VFE_1 = [ VFE(n)[1] for n in size_range ], [ VFE(n)[2] for n in size_range ];  \n",
    "\n"
   ]
  },
  {
   "cell_type": "code",
   "execution_count": 36,
   "metadata": {},
   "outputs": [
    {
     "data": {
      "text/html": [
       "<table class=\"data-frame\"><thead><tr><th></th><th>Size</th><th>Unrelaxd_VFE</th><th>Relaxed_VFE</th></tr></thead><tbody><tr><th>1</th><td>3</td><td>1.42605</td><td>1.28393</td></tr><tr><th>2</th><td>4</td><td>1.42605</td><td>1.27998</td></tr></tbody></table>"
      ],
      "text/plain": [
       "2×3 DataFrames.DataFrame\n",
       "│ Row │ Size │ Unrelaxd_VFE │ Relaxed_VFE │\n",
       "├─────┼──────┼──────────────┼─────────────┤\n",
       "│ 1   │ 3    │ 1.42605      │ 1.28393     │\n",
       "│ 2   │ 4    │ 1.42605      │ 1.27998     │"
      ]
     },
     "execution_count": 36,
     "metadata": {},
     "output_type": "execute_result"
    }
   ],
   "source": [
    "df = DataFrame(Size = size_range, Unrelaxd_VFE = VFE_0, Relaxed_VFE = VFE_1)"
   ]
  }
 ],
 "metadata": {
  "kernelspec": {
   "display_name": "Julia 0.6.4",
   "language": "julia",
   "name": "julia-0.6"
  },
  "language_info": {
   "file_extension": ".jl",
   "mimetype": "application/julia",
   "name": "julia",
   "version": "0.6.4"
  }
 },
 "nbformat": 4,
 "nbformat_minor": 2
}
