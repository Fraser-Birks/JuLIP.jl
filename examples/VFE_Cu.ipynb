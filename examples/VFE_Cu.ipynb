{
 "cells": [
  {
   "cell_type": "markdown",
   "metadata": {},
   "source": [
    "# Vacancy Formation Energy of Copper"
   ]
  },
  {
   "cell_type": "markdown",
   "metadata": {},
   "source": [
    "Task: to find the vacancy formation energy in bulk copper\n",
    "\n",
    "The vacancy formation energy is the energy required to break the bonds between an atom inside the crystal and its nearest neighbor atoms and removing that atom to where it has no interaction with the remaining system[1]. We are calculating the energy of the bulk system using Morse Potential with parameters from [2].\n",
    "\n",
    "reference: \n",
    "\n",
    "[1]https://icme.hpc.msstate.edu/mediawiki/index.php/LAMMPS_Vacancy_Formation_Energy\n",
    "\n",
    "[2]Oluwajobi, A. & Chen, X. Int. J. Autom. Comput. (2011) 8: 326. https://doi.org/10.1007/s11633-011-0588-y"
   ]
  },
  {
   "cell_type": "code",
   "execution_count": 1,
   "metadata": {},
   "outputs": [],
   "source": [
    "using JuLIP, JuLIP.Potentials , Optim"
   ]
  },
  {
   "cell_type": "code",
   "execution_count": 2,
   "metadata": {
    "scrolled": true
   },
   "outputs": [
    {
     "data": {
      "text/plain": [
       "JuLIP.Potentials.AnalyticFunction{##1#4,##2#5,##3#6}(#1, #2, #3) * JuLIP.Potentials.SplineCutoff(0.1, 5.832)"
      ]
     },
     "execution_count": 2,
     "metadata": {},
     "output_type": "execute_result"
    }
   ],
   "source": [
    "# Morse potential\n",
    "D = 0.3429 # well depth\n",
    "alpha = 0.13588 # width of potential\n",
    "r_e = 2.866 # atomic distance at equilibrium\n",
    "nshell = 2\n",
    "mp = (@analytic r -> D * ( exp(-2*alpha*(r-r_e)) - 2*exp(-alpha*(r-r_e)) )) * SplineCutoff(0.1, nshell*r_e+0.1)"
   ]
  },
  {
   "cell_type": "code",
   "execution_count": 3,
   "metadata": {},
   "outputs": [
    {
     "data": {
      "text/plain": [
       "-2.0293100517187743"
      ]
     },
     "execution_count": 3,
     "metadata": {},
     "output_type": "execute_result"
    }
   ],
   "source": [
    "# reference energy\n",
    "# energy per unit volume of a homogeneous copper crystal\n",
    "at = bulk(:Cu)\n",
    "set_calculator!(at, mp)\n",
    "Eref = energy(at)"
   ]
  },
  {
   "cell_type": "code",
   "execution_count": 4,
   "metadata": {},
   "outputs": [
    {
     "data": {
      "text/plain": [
       "-515.444753136619"
      ]
     },
     "execution_count": 4,
     "metadata": {},
     "output_type": "execute_result"
    }
   ],
   "source": [
    "# cluster with vacancy\n",
    "at = bulk(:Cu, cubic = true) * 4\n",
    "set_calculator!(at, mp)\n",
    "deleteat!(at, length(at) ÷ 2)\n",
    "# energy before relaxing\n",
    "E0 = energy(at)"
   ]
  },
  {
   "cell_type": "code",
   "execution_count": 5,
   "metadata": {},
   "outputs": [
    {
     "name": "stdout",
     "output_type": "stream",
     "text": [
      "Results of Optimization Algorithm\n",
      " * Algorithm: Conjugate Gradient\n",
      " * Starting Point: [0.0,0.0, ...]\n",
      " * Minimizer: [-3.9729167250894077,-0.5631795008253148, ...]\n",
      " * Minimum: -6.243141e+03\n",
      " * Iterations: 881\n",
      " * Convergence: true\n",
      "   * |x - x'| ≤ 0.0e+00: false \n",
      "     |x - x'| = 4.80e-06 \n",
      "   * |f(x) - f(x')| ≤ 1.0e-32 |f(x)|: false\n",
      "     |f(x) - f(x')| = -2.38e-13 |f(x)|\n",
      "   * |g(x)| ≤ 1.0e-05: true \n",
      "     |g(x)| = 8.91e-06 \n",
      "   * Stopped by an increasing objective: false\n",
      "   * Reached Maximum Number of Iterations: false\n",
      " * Objective Calls: 1774\n",
      " * Gradient Calls: 882\n"
     ]
    },
    {
     "data": {
      "text/plain": [
       "-6243.1410177526595"
      ]
     },
     "execution_count": 5,
     "metadata": {},
     "output_type": "execute_result"
    }
   ],
   "source": [
    "# geometry optimization\n",
    "set_constraint!(at, FixedCell(at))\n",
    "result = minimise!(at)\n",
    "E1 = result.minimum"
   ]
  },
  {
   "cell_type": "code",
   "execution_count": 8,
   "metadata": {},
   "outputs": [
    {
     "name": "stdout",
     "output_type": "stream",
     "text": [
      "Vacancy Formation Energy without relaxing: 2.0293\n",
      "Vacancy Formation Energy with relaxing: -5725.667\n"
     ]
    }
   ],
   "source": [
    "# defect formation energy\n",
    "println(\"Vacancy Formation Energy without relaxing: \", round(E0 - length(at)*Eref, 4))\n",
    "println(\"Vacancy Formation Energy with relaxing: \", round(E1 - length(at)*Eref, 4))"
   ]
  }
 ],
 "metadata": {
  "kernelspec": {
   "display_name": "Julia 0.6.4",
   "language": "julia",
   "name": "julia-0.6"
  },
  "language_info": {
   "file_extension": ".jl",
   "mimetype": "application/julia",
   "name": "julia",
   "version": "0.6.4"
  }
 },
 "nbformat": 4,
 "nbformat_minor": 2
}
