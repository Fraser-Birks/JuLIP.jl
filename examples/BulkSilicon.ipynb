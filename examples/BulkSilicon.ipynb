{
 "cells": [
  {
   "cell_type": "markdown",
   "metadata": {},
   "source": [
    "# Vacancy in a Silicon Cluster\n"
   ]
  },
  {
   "cell_type": "code",
   "execution_count": 17,
   "metadata": {
    "collapsed": true
   },
   "outputs": [],
   "source": [
    "using JuLIP\n",
    "using JuLIP.Potentials: StillingerWeber\n",
    "using JuLIP.Solve: minimise!\n",
    "using JuLIP.Constraints: FixedCell"
   ]
  },
  {
   "cell_type": "code",
   "execution_count": 18,
   "metadata": {
    "collapsed": false
   },
   "outputs": [
    {
     "data": {
      "text/plain": [
       "-22.497579307541823"
      ]
     },
     "execution_count": 18,
     "metadata": {},
     "output_type": "execute_result"
    }
   ],
   "source": [
    "# reference energy\n",
    "#   energy per unit volume of a homogeneous silicon crystal \n",
    "at = Atoms(\"Si\")\n",
    "calc = StillingerWeber()\n",
    "Eref = energy(calc, at) "
   ]
  },
  {
   "cell_type": "code",
   "execution_count": 26,
   "metadata": {
    "collapsed": false
   },
   "outputs": [
    {
     "data": {
      "text/plain": [
       "-697.4249585337965"
      ]
     },
     "execution_count": 26,
     "metadata": {},
     "output_type": "execute_result"
    }
   ],
   "source": [
    "# cluster with vacancy\n",
    "at = Atoms(\"Si\", cubic=true, repeatcell=(2,2,2), pbc=(true,true,true))\n",
    "deleteat!(at, length(at) ÷ 2) \n",
    "set_calculator!(at, calc)\n",
    "# energy before relaxing\n",
    "E0 = energy(at)"
   ]
  },
  {
   "cell_type": "code",
   "execution_count": 35,
   "metadata": {
    "collapsed": false
   },
   "outputs": [
    {
     "name": "stdout",
     "output_type": "stream",
     "text": [
      "Results of Optimization Algorithm\n",
      " * Algorithm: Conjugate Gradient\n",
      " * Starting Point: [-0.018266518690408896,0.016712540662346103, ...]\n",
      " * Minimizer: [-0.018266518690408896,0.016712540662346103, ...]\n",
      " * Minimum: -7.044028e+02\n",
      " * Iterations: 0\n",
      " * Convergence: true\n",
      "   * |x - x'| < 1.0e-32: false\n",
      "   * |f(x) - f(x')| / |f(x)| < 1.0e-32: false\n",
      "   * |g(x)| < 1.0e-06: true\n",
      "   * Reached Maximum Number of Iterations: false\n",
      " * Objective Function Calls: 1\n",
      " * Gradient Calls: 1\n"
     ]
    }
   ],
   "source": [
    "# geometry optimisation\n",
    "set_constraint!(at, FixedCell(at))\n",
    "result = minimise!(at)\n",
    "E1 = result.f_minimum;"
   ]
  },
  {
   "cell_type": "code",
   "execution_count": 42,
   "metadata": {
    "collapsed": false
   },
   "outputs": [
    {
     "name": "stdout",
     "output_type": "stream",
     "text": [
      "Vacancy Formation Energy without relaxing: 22.4976\n",
      "Vacancy Formation Energy   with  relaxing: 15.5197\n"
     ]
    }
   ],
   "source": [
    "# defect formation energy \n",
    "println(\"Vacancy Formation Energy without relaxing: \", round(E0 - (length(at)+1)*Eref/2, 4))\n",
    "println(\"Vacancy Formation Energy   with  relaxing: \", round(E1 - (length(at)+1)*Eref/2, 4))"
   ]
  },
  {
   "cell_type": "code",
   "execution_count": 43,
   "metadata": {
    "collapsed": false
   },
   "outputs": [
    {
     "data": {
      "text/html": [
       "<div id=\"molecule_cbeb3c1c-a548-4ad7-ae93-c44882295d96\"></div>\n",
       "           <script type=\"text/javascript\">\n",
       "           require.config({baseUrl: '/',\n",
       "                           paths: {imolecule: ['nbextensions/imolecule.min', 'https://rawgit.com/patrickfuller/imolecule/master/imolecule/js/build/imolecule.min']}});\n",
       "           require(['imolecule'], function () {\n",
       "               var $d = $('#molecule_cbeb3c1c-a548-4ad7-ae93-c44882295d96');\n",
       "               $d.width(500); $d.height(500);\n",
       "               $d.imolecule = jQuery.extend({}, imolecule);\n",
       "               $d.imolecule.create($d, {drawingType: 'ball and stick',\n",
       "                                        cameraType: 'perspective',\n",
       "                                        shader: 'lambert',\n",
       "                                        showSave: false});\n",
       "               $d.imolecule.addElements({});\n",
       "               $d.imolecule.draw({\"atoms\":[{\"element\":\"Si\",\"location\":[-4.780290,-4.659121,-4.700662]},{\"element\":\"Si\",\"location\":[-3.411273,-3.311584,-3.361266]},{\"element\":\"Si\",\"location\":[-4.760904,-1.961953,-2.002809]},{\"element\":\"Si\",\"location\":[-3.411273,-0.603496,-0.653178]},{\"element\":\"Si\",\"location\":[-2.041489,-4.681368,-2.052972]},{\"element\":\"Si\",\"location\":[-0.624147,-3.204729,-0.760033]},{\"element\":\"Si\",\"location\":[-2.063736,-1.942567,-4.700662]},{\"element\":\"Si\",\"location\":[-0.689524,-0.603333,-3.361429]},{\"element\":\"Si\",\"location\":[-4.811068,-4.681368,0.716606]},{\"element\":\"Si\",\"location\":[-3.518129,-3.204729,2.133948]},{\"element\":\"Si\",\"location\":[-4.780290,-1.942567,3.442784]},{\"element\":\"Si\",\"location\":[-3.411273,-0.603170,4.790321]},{\"element\":\"Si\",\"location\":[-2.529868,-4.192990,3.908915]},{\"element\":\"Si\",\"location\":[-0.754900,-3.204729,4.897176]},{\"element\":\"Si\",\"location\":[-2.041489,-1.911790,0.716606]},{\"element\":\"Si\",\"location\":[-0.689524,-0.603333,2.068571]},{\"element\":\"Si\",\"location\":[-4.760904,0.755287,-4.720049]},{\"element\":\"Si\",\"location\":[-3.411273,2.104917,-3.361592]},{\"element\":\"Si\",\"location\":[-4.780290,3.452454,-2.022195]},{\"element\":\"Si\",\"location\":[-3.518129,4.761290,-0.760033]},{\"element\":\"Si\",\"location\":[-2.063736,0.735900,-2.022195]},{\"element\":\"Si\",\"location\":[-0.754900,1.998062,-0.760033]},{\"element\":\"Si\",\"location\":[-2.041489,3.474702,-4.669885]},{\"element\":\"Si\",\"location\":[-0.689524,4.826667,-3.361429]},{\"element\":\"Si\",\"location\":[-4.780290,0.735900,0.694359]},{\"element\":\"Si\",\"location\":[-3.518129,1.998062,2.003195]},{\"element\":\"Si\",\"location\":[-4.811068,3.474702,3.420536]},{\"element\":\"Si\",\"location\":[-3.518129,4.892043,4.897176]},{\"element\":\"Si\",\"location\":[-2.041489,0.705123,3.420536]},{\"element\":\"Si\",\"location\":[-0.624147,1.998062,4.897176]},{\"element\":\"Si\",\"location\":[-2.529868,2.986323,0.228228]},{\"element\":\"Si\",\"location\":[0.662441,-4.681368,-4.669885]},{\"element\":\"Si\",\"location\":[2.032226,-3.311584,-3.361592]},{\"element\":\"Si\",\"location\":[0.684689,-1.942567,-2.022195]},{\"element\":\"Si\",\"location\":[2.032226,-0.603170,-0.653178]},{\"element\":\"Si\",\"location\":[3.401243,-4.659121,-2.022195]},{\"element\":\"Si\",\"location\":[4.740639,-3.311584,-0.653178]},{\"element\":\"Si\",\"location\":[3.381856,-1.961953,-4.720049]},{\"element\":\"Si\",\"location\":[4.740476,-0.603333,-3.361429]},{\"element\":\"Si\",\"location\":[1.150820,-4.192990,0.228228]},{\"element\":\"Si\",\"location\":[2.139081,-3.204729,2.003195]},{\"element\":\"Si\",\"location\":[0.662441,-1.911790,3.420536]},{\"element\":\"Si\",\"location\":[2.032226,-0.603496,4.790321]},{\"element\":\"Si\",\"location\":[3.432020,-4.681368,3.420536]},{\"element\":\"Si\",\"location\":[4.740313,-3.311584,4.790321]},{\"element\":\"Si\",\"location\":[3.401243,-1.942567,0.694359]},{\"element\":\"Si\",\"location\":[4.740476,-0.603333,2.068571]},{\"element\":\"Si\",\"location\":[0.684689,0.735900,-4.700662]},{\"element\":\"Si\",\"location\":[2.032226,2.104917,-3.361266]},{\"element\":\"Si\",\"location\":[0.662441,3.474702,-2.052972]},{\"element\":\"Si\",\"location\":[2.139081,4.892043,-0.760033]},{\"element\":\"Si\",\"location\":[3.381856,0.755287,-2.002809]},{\"element\":\"Si\",\"location\":[4.740313,2.104917,-0.653178]},{\"element\":\"Si\",\"location\":[3.401243,3.452454,-4.700662]},{\"element\":\"Si\",\"location\":[4.740476,4.826667,-3.361429]},{\"element\":\"Si\",\"location\":[0.662441,0.705123,0.716606]},{\"element\":\"Si\",\"location\":[2.139081,1.998062,2.133948]},{\"element\":\"Si\",\"location\":[1.150820,2.986323,3.908915]},{\"element\":\"Si\",\"location\":[2.139081,4.761290,4.897176]},{\"element\":\"Si\",\"location\":[3.401243,0.735900,3.442784]},{\"element\":\"Si\",\"location\":[4.740639,2.104917,4.790321]},{\"element\":\"Si\",\"location\":[3.432020,3.474702,0.716606]},{\"element\":\"Si\",\"location\":[4.740476,4.826667,2.068571]}],\"bonds\":[{\"atoms\":[37,32],\"order\":1},{\"atoms\":[37,38],\"order\":1},{\"atoms\":[16,17],\"order\":1},{\"atoms\":[0,1],\"order\":1},{\"atoms\":[53,54],\"order\":1},{\"atoms\":[53,48],\"order\":1},{\"atoms\":[47,7],\"order\":1},{\"atoms\":[47,48],\"order\":1},{\"atoms\":[6,7],\"order\":1},{\"atoms\":[6,1],\"order\":1},{\"atoms\":[31,32],\"order\":1},{\"atoms\":[22,17],\"order\":1},{\"atoms\":[22,23],\"order\":1},{\"atoms\":[17,18],\"order\":1},{\"atoms\":[17,20],\"order\":1},{\"atoms\":[32,35],\"order\":1},{\"atoms\":[32,33],\"order\":1},{\"atoms\":[7,20],\"order\":1},{\"atoms\":[7,33],\"order\":1},{\"atoms\":[23,49],\"order\":1},{\"atoms\":[38,51],\"order\":1},{\"atoms\":[1,4],\"order\":1},{\"atoms\":[1,2],\"order\":1},{\"atoms\":[48,49],\"order\":1},{\"atoms\":[48,51],\"order\":1},{\"atoms\":[49,50],\"order\":1},{\"atoms\":[49,21],\"order\":1},{\"atoms\":[4,5],\"order\":1},{\"atoms\":[18,19],\"order\":1},{\"atoms\":[35,36],\"order\":1},{\"atoms\":[20,21],\"order\":1},{\"atoms\":[20,3],\"order\":1},{\"atoms\":[33,5],\"order\":1},{\"atoms\":[33,34],\"order\":1},{\"atoms\":[51,34],\"order\":1},{\"atoms\":[51,52],\"order\":1},{\"atoms\":[2,3],\"order\":1},{\"atoms\":[19,30],\"order\":1},{\"atoms\":[5,39],\"order\":1},{\"atoms\":[5,14],\"order\":1},{\"atoms\":[50,61],\"order\":1},{\"atoms\":[21,30],\"order\":1},{\"atoms\":[21,55],\"order\":1},{\"atoms\":[36,45],\"order\":1},{\"atoms\":[3,24],\"order\":1},{\"atoms\":[3,14],\"order\":1},{\"atoms\":[34,45],\"order\":1},{\"atoms\":[34,55],\"order\":1},{\"atoms\":[52,61],\"order\":1},{\"atoms\":[30,25],\"order\":1},{\"atoms\":[39,40],\"order\":1},{\"atoms\":[45,40],\"order\":1},{\"atoms\":[45,46],\"order\":1},{\"atoms\":[24,25],\"order\":1},{\"atoms\":[8,9],\"order\":1},{\"atoms\":[61,62],\"order\":1},{\"atoms\":[61,56],\"order\":1},{\"atoms\":[55,15],\"order\":1},{\"atoms\":[55,56],\"order\":1},{\"atoms\":[14,15],\"order\":1},{\"atoms\":[14,9],\"order\":1},{\"atoms\":[25,26],\"order\":1},{\"atoms\":[25,28],\"order\":1},{\"atoms\":[40,43],\"order\":1},{\"atoms\":[40,41],\"order\":1},{\"atoms\":[15,41],\"order\":1},{\"atoms\":[15,28],\"order\":1},{\"atoms\":[46,59],\"order\":1},{\"atoms\":[9,10],\"order\":1},{\"atoms\":[9,12],\"order\":1},{\"atoms\":[56,59],\"order\":1},{\"atoms\":[56,57],\"order\":1},{\"atoms\":[43,44],\"order\":1},{\"atoms\":[26,27],\"order\":1},{\"atoms\":[41,42],\"order\":1},{\"atoms\":[41,13],\"order\":1},{\"atoms\":[28,11],\"order\":1},{\"atoms\":[28,29],\"order\":1},{\"atoms\":[59,42],\"order\":1},{\"atoms\":[59,60],\"order\":1},{\"atoms\":[10,11],\"order\":1},{\"atoms\":[57,58],\"order\":1},{\"atoms\":[57,29],\"order\":1},{\"atoms\":[12,13],\"order\":1}],\"formula\":\"Si63\",\"molecular_weight\":1769.386500,\"units\":{\"molecular_weight\":\"g / mol\"}});\n",
       "\n",
       "               $d.resizable({\n",
       "                   aspectRatio: 500 / 500,\n",
       "                   resize: function (evt, ui) {\n",
       "                       $d.imolecule.renderer.setSize(ui.size.width,\n",
       "                                                     ui.size.height);\n",
       "                   }\n",
       "               });\n",
       "           });\n",
       "           </script>"
      ],
      "text/plain": [
       "PyObject <IPython.core.display.HTML object>"
      ]
     },
     "execution_count": 43,
     "metadata": {},
     "output_type": "execute_result"
    }
   ],
   "source": [
    "# visualise the configuration \n",
    "JuLIP.Visualise.show(at)"
   ]
  },
  {
   "cell_type": "markdown",
   "metadata": {},
   "source": [
    "## TODO Notes\n",
    "\n",
    "* make `FixedCell` the default constraint, instead of `NullConstraint`? maybe not.\n",
    "* re-export minimise!, FixedCell\n",
    "* urgently allow arbitrary boxes for Visualise\n",
    "* replace vacancy with interstitial (needs mechanism to add an atom)"
   ]
  }
 ],
 "metadata": {
  "kernelspec": {
   "display_name": "Julia 0.5.0-rc2",
   "language": "julia",
   "name": "julia-0.5"
  },
  "language_info": {
   "file_extension": ".jl",
   "mimetype": "application/julia",
   "name": "julia",
   "version": "0.5.0"
  }
 },
 "nbformat": 4,
 "nbformat_minor": 0
}
