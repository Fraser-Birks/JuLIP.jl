{
 "cells": [
  {
   "cell_type": "markdown",
   "metadata": {},
   "source": [
    "# Vacancy in a Silicon Cluster\n"
   ]
  },
  {
   "cell_type": "code",
   "execution_count": null,
   "metadata": {
    "collapsed": false
   },
   "outputs": [],
   "source": [
    "using JuLIP\n",
    "using JuLIP.Potentials: StillingerWeber\n",
    "using JuLIP.Solve: minimise!\n",
    "using JuLIP.Constraints: FixedCell"
   ]
  },
  {
   "cell_type": "code",
   "execution_count": null,
   "metadata": {
    "collapsed": false
   },
   "outputs": [],
   "source": [
    "# reference energy\n",
    "#   energy per unit volume of a homogeneous silicon crystal \n",
    "at = Atoms(\"Si\")\n",
    "calc = StillingerWeber()\n",
    "Eref = energy(calc, at) "
   ]
  },
  {
   "cell_type": "code",
   "execution_count": null,
   "metadata": {
    "collapsed": false
   },
   "outputs": [],
   "source": [
    "# cluster with vacancy\n",
    "at = bulk(\"Si\", cubic=true) * 4\n",
    "deleteat!(at, length(at) ÷ 2) \n",
    "set_calculator!(at, calc)\n",
    "# energy before relaxing\n",
    "E0 = energy(at)"
   ]
  },
  {
   "cell_type": "code",
   "execution_count": null,
   "metadata": {
    "collapsed": false
   },
   "outputs": [],
   "source": [
    "# geometry optimisation\n",
    "set_constraint!(at, FixedCell(at))\n",
    "result = minimise!(at)\n",
    "E1 = result.f_minimum;"
   ]
  },
  {
   "cell_type": "code",
   "execution_count": null,
   "metadata": {
    "collapsed": false
   },
   "outputs": [],
   "source": [
    "# defect formation energy \n",
    "println(\"Vacancy Formation Energy without relaxing: \", round(E0 - (length(at)+1)*Eref/2, 4))\n",
    "println(\"Vacancy Formation Energy   with  relaxing: \", round(E1 - (length(at)+1)*Eref/2, 4))"
   ]
  },
  {
   "cell_type": "code",
   "execution_count": null,
   "metadata": {
    "collapsed": false,
    "scrolled": false
   },
   "outputs": [],
   "source": [
    "# visualise the configuration \n",
    "JuLIP.Visualise.display(at)"
   ]
  },
  {
   "cell_type": "markdown",
   "metadata": {},
   "source": [
    "## TODO Notes\n",
    "\n",
    "* urgently allow arbitrary boxes for Visualise\n",
    "* replace vacancy with interstitial (needs mechanism to add an atom)"
   ]
  }
 ],
 "metadata": {
  "kernelspec": {
   "display_name": "Julia 0.5.0",
   "language": "julia",
   "name": "julia-0.5"
  },
  "language_info": {
   "file_extension": ".jl",
   "mimetype": "application/julia",
   "name": "julia",
   "version": "0.5.0"
  }
 },
 "nbformat": 4,
 "nbformat_minor": 0
}
