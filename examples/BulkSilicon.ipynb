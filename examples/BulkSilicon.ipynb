{
 "cells": [
  {
   "cell_type": "markdown",
   "metadata": {},
   "source": [
    "# Vacancy in a Silicon Cluster\n"
   ]
  },
  {
   "cell_type": "code",
   "execution_count": 2,
   "metadata": {
    "collapsed": false
   },
   "outputs": [],
   "source": [
    "using JuLIP\n",
    "using JuLIP.Potentials: StillingerWeber\n",
    "using JuLIP.Solve: minimise!\n",
    "using JuLIP.Constraints: FixedCell"
   ]
  },
  {
   "cell_type": "code",
   "execution_count": 3,
   "metadata": {
    "collapsed": false
   },
   "outputs": [
    {
     "data": {
      "text/plain": [
       "-22.497579307541823"
      ]
     },
     "execution_count": 3,
     "metadata": {},
     "output_type": "execute_result"
    }
   ],
   "source": [
    "# reference energy\n",
    "#   energy per unit volume of a homogeneous silicon crystal \n",
    "at = Atoms(\"Si\")\n",
    "calc = StillingerWeber()\n",
    "Eref = energy(calc, at) "
   ]
  },
  {
   "cell_type": "code",
   "execution_count": 4,
   "metadata": {
    "collapsed": false
   },
   "outputs": [
    {
     "data": {
      "text/plain": [
       "-5736.882723423166"
      ]
     },
     "execution_count": 4,
     "metadata": {},
     "output_type": "execute_result"
    }
   ],
   "source": [
    "# cluster with vacancy\n",
    "at = Atoms(\"Si\", cubic=true, repeatcell=(4,4,4), pbc=(true,true,true))\n",
    "deleteat!(at, length(at) ÷ 2) \n",
    "set_calculator!(at, calc)\n",
    "# energy before relaxing\n",
    "E0 = energy(at)"
   ]
  },
  {
   "cell_type": "code",
   "execution_count": 5,
   "metadata": {
    "collapsed": false
   },
   "outputs": [
    {
     "name": "stdout",
     "output_type": "stream",
     "text": [
      "Results of Optimization Algorithm\n",
      " * Algorithm: Conjugate Gradient\n",
      " * Starting Point: [0.0,0.0, ...]\n",
      " * Minimizer: [-0.007978565307863903,0.0027122343431377266, ...]\n",
      " * Minimum: -5.744144e+03\n",
      " * Iterations: 31\n",
      " * Convergence: true\n",
      "   * |x - x'| < 1.0e-32: false\n",
      "   * |f(x) - f(x')| / |f(x)| < 1.0e-32: false\n",
      "   * |g(x)| < 1.0e-06: true\n",
      "   * Reached Maximum Number of Iterations: false\n",
      " * Objective Function Calls: 94\n",
      " * Gradient Calls: 63\n"
     ]
    }
   ],
   "source": [
    "# geometry optimisation\n",
    "set_constraint!(at, FixedCell(at))\n",
    "result = minimise!(at)\n",
    "E1 = result.f_minimum;"
   ]
  },
  {
   "cell_type": "code",
   "execution_count": 6,
   "metadata": {
    "collapsed": false
   },
   "outputs": [
    {
     "name": "stdout",
     "output_type": "stream",
     "text": [
      "Vacancy Formation Energy without relaxing: 22.4976\n",
      "Vacancy Formation Energy   with  relaxing: 15.2361\n"
     ]
    }
   ],
   "source": [
    "# defect formation energy \n",
    "println(\"Vacancy Formation Energy without relaxing: \", round(E0 - (length(at)+1)*Eref/2, 4))\n",
    "println(\"Vacancy Formation Energy   with  relaxing: \", round(E1 - (length(at)+1)*Eref/2, 4))"
   ]
  },
  {
   "cell_type": "code",
   "execution_count": null,
   "metadata": {
    "collapsed": false,
    "scrolled": false
   },
   "outputs": [],
   "source": [
    "# visualise the configuration \n",
    "JuLIP.Visualise.show(at)"
   ]
  },
  {
   "cell_type": "markdown",
   "metadata": {},
   "source": [
    "## TODO Notes\n",
    "\n",
    "* urgently allow arbitrary boxes for Visualise\n",
    "* replace vacancy with interstitial (needs mechanism to add an atom)"
   ]
  }
 ],
 "metadata": {
  "kernelspec": {
   "display_name": "Julia 0.5.0",
   "language": "julia",
   "name": "julia-0.5"
  },
  "language_info": {
   "file_extension": ".jl",
   "mimetype": "application/julia",
   "name": "julia",
   "version": "0.5.0"
  }
 },
 "nbformat": 4,
 "nbformat_minor": 0
}
